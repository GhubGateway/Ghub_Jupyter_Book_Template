{
 "cells": [
  {
   "cell_type": "markdown",
   "metadata": {},
   "source": [
    "# Notebook for preliminary Jupyter Book testing\n",
    "\n",
    "## Enter: Kernel Restart & Run All to build the Jupyter Book\n",
    "\n",
    "## Note: for Google Chrome or Microsoft Edge web browers, some of the Jupyter Book pages may not display correctly."
   ]
  },
  {
   "cell_type": "code",
   "execution_count": null,
   "metadata": {},
   "outputs": [],
   "source": [
    "#import atexit\n",
    "import numpy as np\n",
    "import os\n",
    "import shutil\n",
    "import sys\n",
    "import time\n",
    "\n",
    "from IPython.display import display, HTML, Markdown, IFrame, clear_output\n",
    "import ipywidgets as widgets\n",
    "\n",
    "#def exit_handler():\n",
    "#atexit.register(exit_handler);   \n",
    "\n",
    "widget_border_style = '1px solid black'\n",
    "\n",
    "# Setup paths to executables\n",
    "scriptpath = os.path.realpath(\" \")\n",
    "        \n",
    "# Get the parent dirs\n",
    "self_tooldir = os.path.dirname(scriptpath)\n",
    "\n",
    "# Add to PYTHONPATH\n",
    "sys.path.insert (1, self_tooldir)\n",
    "\n",
    "jupyter_book_contents = \"jupyter_book_contents\"\n",
    "\n",
    "# Clean any previous Jupyter Notebook checkpoints\n",
    "\n",
    "if os.path.exists('.ipynb_checkpoints'):\n",
    "    shutil.rmtree('.ipynb_checkpoints')\n",
    "if os.path.exists('./demos/.ipynb_checkpoints'):\n",
    "    shutil.rmtree ('./demos/.ipynb_checkpoints')\n",
    "    \n",
    "html_filepath = './%s/_build/html/index.html' %jupyter_book_contents\n",
    "#html = HTML(html_filepath).data\n",
    "#print (type(html))\n",
    "#print (len(html))\n",
    "#print (html)"
   ]
  },
  {
   "cell_type": "code",
   "execution_count": null,
   "metadata": {},
   "outputs": [],
   "source": [
    "#https://api.jquery.com/ready/\n",
    "HTML('''\n",
    "<script>\n",
    "    function scroll_to_top() {\n",
    "        Jupyter.notebook.scroll_to_top();\n",
    "    } \n",
    "    $( window ).on( \"load\", scroll_to_top() );\n",
    "</script>\n",
    "''')"
   ]
  },
  {
   "cell_type": "code",
   "execution_count": null,
   "metadata": {},
   "outputs": [],
   "source": [
    "%%javascript\n",
    "IPython.OutputArea.prototype._should_scroll = function(lines) {\n",
    "    return false;\n",
    "}"
   ]
  },
  {
   "cell_type": "markdown",
   "metadata": {},
   "source": [
    "## HTML Output"
   ]
  },
  {
   "cell_type": "code",
   "execution_count": null,
   "metadata": {},
   "outputs": [],
   "source": [
    "html_output = widgets.Output(layout={'border': widget_border_style})\n",
    "display (html_output)\n",
    "with html_output:\n",
    "    clear_output()"
   ]
  },
  {
   "cell_type": "code",
   "execution_count": null,
   "metadata": {},
   "outputs": [],
   "source": [
    "# See https://jupyterbook.org/en/stable/start/your-first-book.html\n",
    "# Usage: jupyter-book [OPTIONS] COMMAND [ARGS]...\n",
    "#\n",
    "#     Build and manage books with Jupyter.\n",
    "#\n",
    "# Options:\n",
    "#     --version   Show the version and exit.\n",
    "#     -h, --help  Show this message and exit.\n",
    "#\n",
    "# Commands:\n",
    "#     build   Convert your book's or page's content to HTML or a PDF.\n",
    "#     clean   Empty the _build directory except jupyter_cache.\n",
    "#     config  Inspect your _config.yml file.\n",
    "#     create  Create a Jupyter Book template that you can customize.\n",
    "#     myst    Manipulate MyST markdown files.\n",
    "#     toc     Command-line for sphinx-external-toc.\n"
   ]
  },
  {
   "cell_type": "markdown",
   "metadata": {},
   "source": [
    "## LOG Output"
   ]
  },
  {
   "cell_type": "code",
   "execution_count": null,
   "metadata": {},
   "outputs": [],
   "source": [
    "log_output = widgets.Output(layout={'border': widget_border_style})\n",
    "display (log_output)\n",
    "with log_output:\n",
    "    clear_output()"
   ]
  },
  {
   "cell_type": "code",
   "execution_count": null,
   "metadata": {},
   "outputs": [],
   "source": [
    "with log_output:\n",
    "    \n",
    "    # Clean any previous Jupyter Book\n",
    "\n",
    "    start_time = time.time()\n",
    "    #print ('Please wait or the Jupyter Book to clean...')\n",
    "\n",
    "    os.system('jupyter-book clean --all ./%s/' %jupyter_book_contents)\n",
    "\n",
    "    elapsed_time = time.time() - start_time\n",
    "    print ('jupyter-book clean elasped time: ', np.round(elapsed_time/60.0, 2), ' [min]\\n')\n",
    "        \n",
    "    # Build the Jupyter Book\n",
    "\n",
    "    start_time = time.time()\n",
    "    #print ('Please wait or the Jupyter Book to build...')\n",
    "\n",
    "    os.system('jupyter-book build --all ./%s/' %jupyter_book_contents)\n",
    "    \n",
    "    elapsed_time = time.time() - start_time\n",
    "    print ('jupyter-book build elasped time: ', np.round(elapsed_time/60.0, 2), ' [min]\\n')\n",
    "        \n",
    "with html_output:\n",
    "    \n",
    "    # Display the Jupyter Book\n",
    "    \n",
    "    if os.path.exists(html_filepath):\n",
    "        display(IFrame(src=html_filepath, width=1300, height=1600))\n",
    "    else:\n",
    "        print ('%s does not exist. See the log output cell for any jupyter-book build errors that were encountered.' %html_filepath)\n"
   ]
  }
 ],
 "metadata": {
  "kernelspec": {
   "display_name": "Python3 (GSTAT)",
   "language": "python",
   "name": "gstat"
  },
  "language_info": {
   "codemirror_mode": {
    "name": "ipython",
    "version": 3
   },
   "file_extension": ".py",
   "mimetype": "text/x-python",
   "name": "python",
   "nbconvert_exporter": "python",
   "pygments_lexer": "ipython3",
   "version": "3.8.17"
  }
 },
 "nbformat": 4,
 "nbformat_minor": 5
}
