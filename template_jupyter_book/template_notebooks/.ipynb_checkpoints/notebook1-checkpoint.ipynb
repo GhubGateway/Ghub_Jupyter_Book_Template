{
 "cells": [
  {
   "cell_type": "code",
   "execution_count": null,
   "metadata": {},
   "outputs": [],
   "source": [
    "#%load_ext autoreload\n",
    "#%autoreload 2"
   ]
  },
  {
   "cell_type": "markdown",
   "metadata": {},
   "source": [
    "## Notebook: 1\n",
    "\n",
    "Jupyter notebook to display the directory tree of the notebooks directory."
   ]
  },
  {
   "cell_type": "code",
   "execution_count": null,
   "metadata": {},
   "outputs": [],
   "source": [
    "# Setup and preprocessing:\n",
    "\n",
    "import os\n",
    "import platform\n",
    "import sys\n",
    "\n",
    "from IPython.display import HTML\n",
    "\n",
    "# Current path\n",
    "Path = os.path.realpath(\".\")\n",
    "print ('Path: %s\\n' %Path)\n",
    "\n",
    "# Parent path\n",
    "Parentpath = os.path.dirname(Path)\n",
    "print ('Parentpath: %s\\n' %Parentpath)\n",
    "sys.path.append(Parentpath)\n",
    "\n",
    "import Utils as utils\n",
    "#help(utils)\n",
    "\n",
    "if utils.Configuration.VERBOSE == True:\n",
    "    \n",
    "    print (\"Operating System Platform: \" + platform.system(), platform.release())\n",
    "    print (\"\\n\")\n",
    "\n",
    "    print (\"os.environ['PATH']: \", os.environ['PATH'])\n",
    "    print (\"sys.path: \", sys.path)\n",
    "    print (\"\\n\")\n"
   ]
  },
  {
   "cell_type": "code",
   "execution_count": null,
   "metadata": {},
   "outputs": [],
   "source": [
    "#https://api.jquery.com/ready/\n",
    "HTML('''\n",
    "<script>\n",
    "    function scroll_to_top() {\n",
    "        Jupyter.notebook.scroll_to_top();\n",
    "    } \n",
    "    $( window ).on( \"load\", scroll_to_top() );\n",
    "</script>\n",
    "''')"
   ]
  },
  {
   "cell_type": "code",
   "execution_count": null,
   "metadata": {},
   "outputs": [],
   "source": [
    "#https://stackoverflow.com/questions/36757301/disable-ipython-notebook-autoscrolling"
   ]
  },
  {
   "cell_type": "code",
   "execution_count": null,
   "metadata": {},
   "outputs": [],
   "source": [
    "%%javascript\n",
    "IPython.OutputArea.prototype._should_scroll = function(lines) {\n",
    "    return false;\n",
    "}"
   ]
  },
  {
   "cell_type": "code",
   "execution_count": null,
   "metadata": {},
   "outputs": [],
   "source": [
    "print ('\\nDirectory tree of %s:\\n' %Path)\n",
    "results_tree = utils.Tree(Path)\n",
    "results_tree.print_tree()\n"
   ]
  }
 ],
 "metadata": {
  "anaconda-cloud": {},
  "kernelspec": {
   "display_name": "Python 3 (ipykernel)",
   "language": "python",
   "name": "python3"
  },
  "language_info": {
   "codemirror_mode": {
    "name": "ipython",
    "version": 3
   },
   "file_extension": ".py",
   "mimetype": "text/x-python",
   "name": "python",
   "nbconvert_exporter": "python",
   "pygments_lexer": "ipython3",
   "version": "3.8.15"
  },
  "tool": false
 },
 "nbformat": 4,
 "nbformat_minor": 1
}
