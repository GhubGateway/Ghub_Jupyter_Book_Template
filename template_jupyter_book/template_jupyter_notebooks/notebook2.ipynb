{
 "cells": [
  {
   "cell_type": "code",
   "execution_count": null,
   "metadata": {},
   "outputs": [],
   "source": [
    "#%load_ext autoreload\n",
    "#%autoreload 2"
   ]
  },
  {
   "cell_type": "markdown",
   "metadata": {},
   "source": [
    "# Notebook: 2\n",
    "\n",
    "## Overview\n",
    "\n",
    "Jupyter notebook to display the contents of select template files including the required Makefile, showbook&#46;sh and invoke scripts. On Ghub, the template's Makefile, showbook&#46;sh, and invoke scripts are required, to build Jupyter Books which enable the books' generated HTML files to display consistently across web browsers. \n"
   ]
  },
  {
   "cell_type": "code",
   "execution_count": null,
   "metadata": {},
   "outputs": [],
   "source": [
    "# Setup and preprocessing:\n",
    "\n",
    "import os\n",
    "import platform\n",
    "import sys\n",
    "\n",
    "from IPython.display import HTML\n",
    "\n",
    "# Current path\n",
    "Path = os.path.realpath(\".\")\n",
    "#print ('Path: %s\\n' %Path)\n",
    "\n",
    "# Parent path\n",
    "Parentpath = os.path.dirname(Path)\n",
    "#print ('Parentpath: %s\\n' %Parentpath)\n",
    "\n",
    "# Add to PYTHONPATH\n",
    "sys.path.append(Parentpath)\n",
    "\n",
    "# Tool path\n",
    "Toolpath = os.path.dirname(Parentpath)\n",
    "#print ('Toolpath: %s\\n' %Toolpath)\n",
    "\n",
    "import utils\n",
    "#help(utils)\n",
    "\n",
    "if utils.Configuration.VERBOSE == True:\n",
    "    \n",
    "    print (\"Operating System Platform: \" + platform.system(), platform.release())\n",
    "    print (\"\\n\")\n",
    "\n",
    "    print (\"os.environ['PATH']: \", os.environ['PATH'])\n",
    "    print (\"sys.path: \", sys.path)\n",
    "    print (\"\\n\")\n"
   ]
  },
  {
   "cell_type": "code",
   "execution_count": null,
   "metadata": {},
   "outputs": [],
   "source": [
    "#https://api.jquery.com/ready/\n",
    "HTML('''\n",
    "<script>\n",
    "    function scroll_to_top() {\n",
    "        Jupyter.notebook.scroll_to_top();\n",
    "    } \n",
    "    $( window ).on( \"load\", scroll_to_top() );\n",
    "</script>\n",
    "''')"
   ]
  },
  {
   "cell_type": "code",
   "execution_count": null,
   "metadata": {},
   "outputs": [],
   "source": [
    "#https://stackoverflow.com/questions/36757301/disable-ipython-notebook-autoscrolling"
   ]
  },
  {
   "cell_type": "code",
   "execution_count": null,
   "metadata": {},
   "outputs": [],
   "source": [
    "%%javascript\n",
    "IPython.OutputArea.prototype._should_scroll = function(lines) {\n",
    "    return false;\n",
    "}"
   ]
  },
  {
   "cell_type": "markdown",
   "metadata": {},
   "source": [
    "### Jupyter Book's index&#46;md file"
   ]
  },
  {
   "cell_type": "code",
   "execution_count": null,
   "metadata": {},
   "outputs": [],
   "source": [
    "filepath = os.path.join(Parentpath,'index.md')\n",
    "if os.path.exists(filepath):\n",
    "    #print(\"\\nContents of\\n%s:\\n\" %filepath)\n",
    "    f = open(filepath,'r')\n",
    "    for line in f:\n",
    "        print(line.rstrip())\n",
    "    f.close()\n",
    "else:\n",
    "    print ('%s does not exist ' %filepath)\n"
   ]
  },
  {
   "cell_type": "markdown",
   "metadata": {},
   "source": [
    "### Jupyter Book's configuration file"
   ]
  },
  {
   "cell_type": "code",
   "execution_count": null,
   "metadata": {},
   "outputs": [],
   "source": [
    "filepath = os.path.join(Parentpath,'_config.yml')\n",
    "if os.path.exists(filepath):\n",
    "    #print(\"\\nContents of\\n%s:\\n\" %filepath)\n",
    "    f = open(filepath,'r')\n",
    "    for line in f:\n",
    "        print(line.rstrip())\n",
    "    f.close()\n",
    "else:\n",
    "    print ('%s does not exist ' %filepath)\n"
   ]
  },
  {
   "cell_type": "markdown",
   "metadata": {},
   "source": [
    "### Jupyter Book's table of contents file"
   ]
  },
  {
   "cell_type": "code",
   "execution_count": null,
   "metadata": {},
   "outputs": [],
   "source": [
    "filepath = os.path.join(Toolpath,'template_jupyter_book','_toc.yml')\n",
    "if os.path.exists(filepath):\n",
    "    #print(\"\\nContents of\\n%s:\\n\" %filepath)\n",
    "    f = open(filepath,'r')\n",
    "    for line in f:\n",
    "        print(line.rstrip())\n",
    "    f.close()\n",
    "else:\n",
    "    print ('%s does not exist ' %filepath)\n"
   ]
  },
  {
   "cell_type": "markdown",
   "metadata": {},
   "source": [
    "### Jupyter Book's Makefile Script\n",
    "\n",
    "#### The Makefile script is required to generate the Jupyter Book's HTML files on Ghub."
   ]
  },
  {
   "cell_type": "code",
   "execution_count": null,
   "metadata": {},
   "outputs": [],
   "source": [
    "# Note: for the installed and published versions of the tool, users do not have read access to the src directory.\n",
    "'''\n",
    "filepath = os.path.join(Toolpath,'src','Makefile')\n",
    "if os.path.exists(filepath):\n",
    "    print(\"\\nContents of\\n%s:\\n\" %filepath)\n",
    "    f = open(filepath,'r')\n",
    "    for line in f:\n",
    "        print(line.rstrip())\n",
    "    f.close()\n",
    "else:\n",
    "    print ('%s does not exist ' %filepath)\n",
    "''';"
   ]
  },
  {
   "cell_type": "markdown",
   "metadata": {},
   "source": [
    "<font size=\"3\"> \n",
    "all:<br>\n",
    "\n",
    "install:<br>\n",
    "&nbsp;&nbsp;&nbsp;&nbsp;&nbsp;&nbsp;&nbsp;&nbsp;&nbsp;&nbsp;&nbsp;&nbsp;. /etc/environ.sh; use -e -r anaconda-7; cd ..; export PYTHONPATH=$$PWD; jupyter-book build --all template_jupyter_book\n",
    "\n",
    "clean:\n",
    "\n",
    "distclean: clean<br>\n",
    "&nbsp;&nbsp;&nbsp;&nbsp;&nbsp;&nbsp;&nbsp;&nbsp;&nbsp;&nbsp;&nbsp;&nbsp;cd ..; jupyter-book clean template_jupyter_book\n",
    "\n",
    ".PHONY: all install clean distclean\n",
    "\n",
    "</font>"
   ]
  },
  {
   "cell_type": "markdown",
   "metadata": {},
   "source": [
    "### Jupyter Book's showbook&#46;sh Script\n",
    "\n",
    "#### The showbook&#46;sh script is required to view the Jupyter Book's HTML files using a web browser."
   ]
  },
  {
   "cell_type": "code",
   "execution_count": null,
   "metadata": {},
   "outputs": [],
   "source": [
    "filepath = os.path.join(Toolpath,'bin','showbook.sh')\n",
    "if os.path.exists(filepath):\n",
    "    #print(\"\\nContents of\\n%s:\\n\" %filepath)\n",
    "    f = open(filepath,'r')\n",
    "    for line in f:\n",
    "        print(line.rstrip())\n",
    "    f.close()\n",
    "else:\n",
    "    print ('%s does not exist ' %filepath)\n"
   ]
  },
  {
   "cell_type": "markdown",
   "metadata": {},
   "source": [
    "### Jupyter Book's invoke Script\n",
    "\n",
    "#### The invoke script is required to launch the Jupyter Book on Ghub."
   ]
  },
  {
   "cell_type": "code",
   "execution_count": null,
   "metadata": {},
   "outputs": [],
   "source": [
    "filepath = os.path.join(Toolpath,'middleware','invoke')\n",
    "if os.path.exists(filepath):\n",
    "    #print(\"\\nContents of\\n%s:\\n\" %filepath)\n",
    "    f = open(filepath,'r')\n",
    "    for line in f:\n",
    "        print(line.rstrip())\n",
    "    f.close()\n",
    "else:\n",
    "    print ('%s does not exist ' %filepath)\n"
   ]
  }
 ],
 "metadata": {
  "anaconda-cloud": {},
  "kernelspec": {
   "display_name": "Python 3 (ipykernel)",
   "language": "python",
   "name": "python3"
  },
  "language_info": {
   "codemirror_mode": {
    "name": "ipython",
    "version": 3
   },
   "file_extension": ".py",
   "mimetype": "text/x-python",
   "name": "python",
   "nbconvert_exporter": "python",
   "pygments_lexer": "ipython3",
   "version": "3.8.15"
  },
  "tool": false
 },
 "nbformat": 4,
 "nbformat_minor": 1
}
